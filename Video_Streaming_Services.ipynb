{
  "nbformat": 4,
  "nbformat_minor": 0,
  "metadata": {
    "colab": {
      "provenance": []
    },
    "kernelspec": {
      "name": "python3",
      "display_name": "Python 3"
    },
    "language_info": {
      "name": "python"
    }
  },
  "cells": [
    {
      "cell_type": "markdown",
      "source": [
        "# **Case: Video Streaming Services**\n",
        "**Muhammad Fadhil**"
      ],
      "metadata": {
        "id": "lw7Jc_tagBa-"
      }
    },
    {
      "cell_type": "markdown",
      "source": [
        "# Table Plan"
      ],
      "metadata": {
        "id": "OeA7Ml9gLqv-"
      }
    },
    {
      "cell_type": "markdown",
      "source": [
        "| **Basic Plan**       | **Standard Plan**                                       | **Premium Plan**                                               | **Services**   |\n",
        "|----------------------|---------------------------------------------------------|----------------------------------------------------------------|----------------|\n",
        "| ✓                    | ✓                                                       | ✓                                                              | can_stream     |\n",
        "| ✓                    | ✓                                                       | ✓                                                              | can_download   |\n",
        "| ✓                    | ✓                                                       | ✓                                                              | has_SD         |\n",
        "|                      | ✓                                                       | ✓                                                              | has_HD         |\n",
        "|                      |                                                         | ✓                                                              | has_UHD        |\n",
        "| 1                    | 2                                                       | 4                                                              | num_of_devices |\n",
        "| 3rd party movie only | Basic Plan Content + Sports  (F1, Football, Basketball) | Basic Plan + Standard Plan +  PacFlix Original Series or Movie | content        |\n",
        "| Rp 120.000,-         | Rp 160.000,-                                            | Rp 200.000,-                                                   | price          |"
      ],
      "metadata": {
        "id": "cSIsnBIpMNpe"
      }
    },
    {
      "cell_type": "markdown",
      "source": [
        "# Features List yang dibutuhkan\n",
        "- [ ] `check_benefit()` --> tampilkan semua benefit\n",
        "- [ ] `check_plan(username)` --> tampilkan benefit yang didapatkan dan udah langganan berapa lama (done)\n",
        "- [ ] `upgrade_plan(username, current_plan, new_plan)` --> harga final, if langganan > 12 bulan akan dapet diskon 5%\n",
        "- [ ] `pick_plan(new_plan, code_referral)` --> untuk new user, harga final kalo pake kode referral dapet diskon 4%"
      ],
      "metadata": {
        "id": "_MIuSApnMcKh"
      }
    },
    {
      "cell_type": "code",
      "execution_count": null,
      "metadata": {
        "id": "EoaD_TIPKr7H"
      },
      "outputs": [],
      "source": [
        "# import library\n",
        "from tabulate import tabulate"
      ]
    },
    {
      "cell_type": "markdown",
      "source": [
        "# Create Data"
      ],
      "metadata": {
        "id": "4DeSAthdNaVP"
      }
    },
    {
      "cell_type": "code",
      "source": [
        "# tinggal di run saja\n",
        "data = {\n",
        "    \"Shandy\": [\"Basic Plan\", 12, \"shandy-2134\"],\n",
        "    \"Cahya\": [\"Standard Plan\", 24, \"cahya-abcd\"],\n",
        "    \"Ana\": [\"Premium Plan\", 5, \"ana-2f9g\"],\n",
        "    \"Bagus\": [\"Basic Plan\", 11, \"bagus-9f92\"],\n",
        "    \"Pipin\": [\"Standard Plan\", 13, \"pipin-09lp\"]\n",
        "}"
      ],
      "metadata": {
        "id": "HIhLNU1NNYnp"
      },
      "execution_count": null,
      "outputs": []
    },
    {
      "cell_type": "markdown",
      "source": [
        "## Create User Class"
      ],
      "metadata": {
        "id": "Zo2qv3JfNicM"
      }
    },
    {
      "cell_type": "code",
      "source": [
        "class User:\n",
        "\n",
        "    def __init__(self, username, duration_plan, current_plan):\n",
        "        self.username = username\n",
        "        self.duration_plan = duration_plan\n",
        "        self.current_plan = current_plan\n",
        "\n",
        "    # untuk mengecek benefit dari masing - masing plan\n",
        "    def check_benefit(self):\n",
        "        table = [[True, True, True, \"Bisa Stream\"],\n",
        "                 [True, True, True, \"Bisa Download\"],\n",
        "                 [True, True, True, \"Kualitas SD\"],\n",
        "                 [False, True, True, \"Kualitas HD\"],\n",
        "                 [False, False, True, \"Kualitas UHD\"],\n",
        "                 [1, 2, 4, \"Number of Devices\"],\n",
        "                 [\"3rd party Movie only\", \"Basic Plan Content + Sports\", \"Basic Plan + Standard Plan + PacFlix Original Series\", \"Jenis Konten\"],\n",
        "                 [120_000, 160_000, 200_000, \"Harga\"]]\n",
        "\n",
        "        headers = [\"Basic Plan\", \"Standard Plan\", \"Premium Plan\", \"Services\"]\n",
        "        print(\"PacFlix Plan List\")\n",
        "        print(\"\")\n",
        "        print(tabulate(table, headers))\n",
        "\n",
        "    # untuk check plan dari plan yang dipilih\n",
        "    def check_plan(self, username):\n",
        "        for key, value in data.items():\n",
        "            if key == self.username:\n",
        "                print(value[0])\n",
        "                print(f\"{value[1]} Bulan\")\n",
        "                print(\"\")\n",
        "\n",
        "                try:\n",
        "                    if value[0] == \"Basic Plan\":\n",
        "                        table = [[True, \"Bisa Stream\"],\n",
        "                         [True, \"Bisa Download\"],\n",
        "                         [True, \"Kualitas SD\"],\n",
        "                         [False, \"Kualitas HD\"],\n",
        "                         [False, \"Kualitas UHD\"],\n",
        "                         [1, \"Number of Devices\"],\n",
        "                         [\"3rd party Movie only\", \"Jenis Konten\"],\n",
        "                         [120_000, \"Harga\"]]\n",
        "\n",
        "                        headers = [\"Basic Plan\", \"Services\"]\n",
        "                        print(f\"{value[0]} PacFlix Benefit List\")\n",
        "                        print(\"\")\n",
        "                        print(tabulate(table, headers))\n",
        "\n",
        "                    elif value[0] == \"Standard Plan\":\n",
        "                        table = [[True, \"Bisa Stream\"],\n",
        "                         [True, \"Bisa Download\"],\n",
        "                         [True, \"Kualitas SD\"],\n",
        "                         [True, \"Kualitas HD\"],\n",
        "                         [False, \"Kualitas UHD\"],\n",
        "                         [2, \"Number of Devices\"],\n",
        "                         [\"Basic Plan + Sports (F1, Football, Basketball)\", \"Jenis Konten\"],\n",
        "                         [160_000, \"Harga\"]]\n",
        "\n",
        "                        headers = [\"Standard Plan\", \"Services\"]\n",
        "                        print(f\"{value[0]} PacFlix Benefit List\")\n",
        "                        print(\"\")\n",
        "                        print(tabulate(table, headers))\n",
        "\n",
        "                    elif value[0] == \"Premium Plan\":\n",
        "                        table = [[True, \"Bisa Stream\"],\n",
        "                         [True, \"Bisa Download\"],\n",
        "                         [True, \"Kualitas SD\"],\n",
        "                         [True, \"Kualitas HD\"],\n",
        "                         [True, \"Kualitas UHD\"],\n",
        "                         [4, \"Number of Devices\"],\n",
        "                         [\"Basic Plan + Standard Plan + PacFlix Original Series or Movies\", \"Jenis Konten\"],\n",
        "                         [200_000, \"Harga\"]]\n",
        "\n",
        "                        headers = [\"Premium\", \"Services\"]\n",
        "                        print(f\"{value[0]} PacFlix Benefit List\")\n",
        "                        print(\"\")\n",
        "                        print(tabulate(table, headers))\n",
        "\n",
        "                    else:\n",
        "                        raise Exception(\"Plan didn't exists\")\n",
        "                except:\n",
        "                    print(\"Paket tidak ditemukan atau terjadi kesalahan lain.\")\n",
        "\n",
        "    # function untuk upgrade plan\n",
        "    # def upgrade_plan(self, current_plan, new_plan):\n",
        "\n",
        "    #     if new_plan != self.current_plan:\n",
        "    #         if self.duration_plan > 12:\n",
        "    #             if new_plan == \"Basic Plan\":\n",
        "    #                 total = 120_000 - (120_000 * 0.05)\n",
        "    #                 return total\n",
        "    #             elif new_plan == \"Standard Plan\":\n",
        "    #                 total = 160_000 - (160_000 * 0.05)\n",
        "    #                 return total\n",
        "    #             elif new_plan == \"Premium Plan\":\n",
        "    #                 total = 200_000 - (200_000 * 0.05)\n",
        "    #                 return total\n",
        "    #             else:\n",
        "    #                 raise Exception(\"Plan didn't exist\")\n",
        "    #         else:\n",
        "    #             if new_plan == \"Basic Plan\":\n",
        "    #                 total = 120_000\n",
        "    #                 return total\n",
        "    #             elif new_plan == \"Standard Plan\":\n",
        "    #                 total = 160_000\n",
        "    #                 return total\n",
        "    #             elif new_plan == \"Premium Plan\":\n",
        "    #                 total = 200_000\n",
        "    #                 return total\n",
        "    def upgrade_plan(self, new_plan):\n",
        "        plan_prices = {\n",
        "            \"Basic Plan\": 120_000,\n",
        "            \"Standard Plan\": 160_000,\n",
        "            \"Premium Plan\": 200_000\n",
        "        }\n",
        "\n",
        "        # Cek apakah plan yang diminta valid\n",
        "        if new_plan not in plan_prices:\n",
        "            raise Exception(\"Plan tidak tersedia\")\n",
        "\n",
        "        # Jika user tetap di plan yang sama dan sudah lebih dari 12 bulan → Dapat diskon\n",
        "        if new_plan == self.current_plan:\n",
        "            if self.duration_plan > 12:\n",
        "                price = plan_prices[new_plan] * 0.95  # Diskon 5%\n",
        "                return f\"Anda tetap di {new_plan} dan mendapatkan diskon 5%! Harga: Rp {price:,.0f}\"\n",
        "            else:\n",
        "                return f\"Anda tetap di {new_plan}, harga tetap Rp {plan_prices[new_plan]:,.0f}\"\n",
        "\n",
        "        # Cek indeks dari paket yang dimiliki dan yang ingin dipilih\n",
        "        current_index = list(plan_prices.keys()).index(self.current_plan)\n",
        "        new_index = list(plan_prices.keys()).index(new_plan)\n",
        "\n",
        "        # Jika user upgrade dan sudah lebih dari 12 bulan → Diskon 5%\n",
        "        if new_index > current_index:\n",
        "            discount = 0.95 if self.duration_plan > 12 else 1\n",
        "            price = plan_prices[new_plan] * discount\n",
        "            return f\"Upgrade berhasil ke {new_plan}! Anda perlu membayar: Rp {price:,.0f}\"\n",
        "\n",
        "        # Jika user downgrade → Harga mengikuti paket yang dipilih (tanpa diskon)\n",
        "        if new_index < current_index:\n",
        "            price = plan_prices[new_plan]  # Harga mengikuti paket baru\n",
        "            return f\"Anda telah downgrade ke {new_plan}. Harga: Rp {price:,.0f}\""
      ],
      "metadata": {
        "id": "ka2jwYV_NpCD"
      },
      "execution_count": null,
      "outputs": []
    },
    {
      "cell_type": "markdown",
      "source": [
        "## Create Object for User Class"
      ],
      "metadata": {
        "id": "JSr7wr01PnIy"
      }
    },
    {
      "cell_type": "code",
      "source": [
        "user_1 = User(\"Pipin\", 13, \"Standard Plan\")"
      ],
      "metadata": {
        "id": "8mTkBnvWPkh_"
      },
      "execution_count": null,
      "outputs": []
    },
    {
      "cell_type": "code",
      "source": [
        "# check attribute in Class\n",
        "user_1.username, user_1.duration_plan, user_1.current_plan"
      ],
      "metadata": {
        "colab": {
          "base_uri": "https://localhost:8080/"
        },
        "id": "Ey5vzvvyP9Lg",
        "outputId": "9a9ac209-8147-4717-b69e-056d657c3efc"
      },
      "execution_count": null,
      "outputs": [
        {
          "output_type": "execute_result",
          "data": {
            "text/plain": [
              "('Pipin', 12, 'Standard Plan')"
            ]
          },
          "metadata": {},
          "execution_count": 143
        }
      ]
    },
    {
      "cell_type": "markdown",
      "source": [
        "# Test Case 1"
      ],
      "metadata": {
        "id": "tOk6ew8XVQfl"
      }
    },
    {
      "cell_type": "code",
      "source": [
        "user_1.check_benefit()"
      ],
      "metadata": {
        "colab": {
          "base_uri": "https://localhost:8080/"
        },
        "id": "8jXc7qMbVUOY",
        "outputId": "c5d4058a-357f-45c6-9fcc-221380fc9fe5"
      },
      "execution_count": null,
      "outputs": [
        {
          "output_type": "stream",
          "name": "stdout",
          "text": [
            "PacFlix Plan List\n",
            "\n",
            "Basic Plan            Standard Plan                Premium Plan                                          Services\n",
            "--------------------  ---------------------------  ----------------------------------------------------  -----------------\n",
            "True                  True                         True                                                  Bisa Stream\n",
            "True                  True                         True                                                  Bisa Download\n",
            "True                  True                         True                                                  Kualitas SD\n",
            "False                 True                         True                                                  Kualitas HD\n",
            "False                 False                        True                                                  Kualitas UHD\n",
            "1                     2                            4                                                     Number of Devices\n",
            "3rd party Movie only  Basic Plan Content + Sports  Basic Plan + Standard Plan + PacFlix Original Series  Jenis Konten\n",
            "120000                160000                       200000                                                Harga\n"
          ]
        }
      ]
    },
    {
      "cell_type": "markdown",
      "source": [
        "# Test Case 2"
      ],
      "metadata": {
        "id": "xr2v4ThAWkYu"
      }
    },
    {
      "cell_type": "code",
      "source": [
        "user_1.check_plan(user_1.username)"
      ],
      "metadata": {
        "colab": {
          "base_uri": "https://localhost:8080/"
        },
        "id": "sPRA8JrUWmix",
        "outputId": "3ae05893-5825-4a36-af13-91f7506f4c64"
      },
      "execution_count": null,
      "outputs": [
        {
          "output_type": "stream",
          "name": "stdout",
          "text": [
            "Standard Plan\n",
            "13 Bulan\n",
            "\n",
            "Standard Plan PacFlix Benefit List\n",
            "\n",
            "Standard Plan                                   Services\n",
            "----------------------------------------------  -----------------\n",
            "True                                            Bisa Stream\n",
            "True                                            Bisa Download\n",
            "True                                            Kualitas SD\n",
            "True                                            Kualitas HD\n",
            "False                                           Kualitas UHD\n",
            "2                                               Number of Devices\n",
            "Basic Plan + Sports (F1, Football, Basketball)  Jenis Konten\n",
            "160000                                          Harga\n"
          ]
        }
      ]
    },
    {
      "cell_type": "markdown",
      "source": [
        "# Test Case 3"
      ],
      "metadata": {
        "id": "YH1_vqWsXAJB"
      }
    },
    {
      "cell_type": "code",
      "source": [
        "user_1.upgrade_plan(\"Premium Plan\")"
      ],
      "metadata": {
        "colab": {
          "base_uri": "https://localhost:8080/",
          "height": 36
        },
        "id": "doxNi7BHXCcO",
        "outputId": "af64d6b0-7f81-4ee5-f671-8bda01d9278f"
      },
      "execution_count": null,
      "outputs": [
        {
          "output_type": "execute_result",
          "data": {
            "text/plain": [
              "'Upgrade berhasil ke Premium Plan! Anda perlu membayar: Rp 190,000'"
            ],
            "application/vnd.google.colaboratory.intrinsic+json": {
              "type": "string"
            }
          },
          "metadata": {},
          "execution_count": 148
        }
      ]
    },
    {
      "cell_type": "markdown",
      "source": [
        "## Testing with another Object"
      ],
      "metadata": {
        "id": "bVrXG0dnXVXk"
      }
    },
    {
      "cell_type": "code",
      "source": [
        "user_2 = User(\"Cahya\", 24, \"Standard Plan\")"
      ],
      "metadata": {
        "id": "uyvpDBueXZDy"
      },
      "execution_count": null,
      "outputs": []
    },
    {
      "cell_type": "code",
      "source": [
        "user_2.check_benefit()"
      ],
      "metadata": {
        "colab": {
          "base_uri": "https://localhost:8080/"
        },
        "id": "PE7zCJvKXcok",
        "outputId": "158f33b6-1637-49f7-f192-7cd1cfcb3b0a"
      },
      "execution_count": null,
      "outputs": [
        {
          "output_type": "stream",
          "name": "stdout",
          "text": [
            "PacFlix Plan List\n",
            "\n",
            "Basic Plan            Standard Plan                Premium Plan                                          Services\n",
            "--------------------  ---------------------------  ----------------------------------------------------  -----------------\n",
            "True                  True                         True                                                  Bisa Stream\n",
            "True                  True                         True                                                  Bisa Download\n",
            "True                  True                         True                                                  Kualitas SD\n",
            "False                 True                         True                                                  Kualitas HD\n",
            "False                 False                        True                                                  Kualitas UHD\n",
            "1                     2                            4                                                     Number of Devices\n",
            "3rd party Movie only  Basic Plan Content + Sports  Basic Plan + Standard Plan + PacFlix Original Series  Jenis Konten\n",
            "120000                160000                       200000                                                Harga\n"
          ]
        }
      ]
    },
    {
      "cell_type": "code",
      "source": [
        "user_2.check_plan(user_2.username)"
      ],
      "metadata": {
        "colab": {
          "base_uri": "https://localhost:8080/"
        },
        "id": "lALCL0OTXo5I",
        "outputId": "5e3bc126-def1-483a-c2f1-0ae0cd1f74c4"
      },
      "execution_count": null,
      "outputs": [
        {
          "output_type": "stream",
          "name": "stdout",
          "text": [
            "Standard Plan\n",
            "24 Bulan\n",
            "\n",
            "Standard Plan PacFlix Benefit List\n",
            "\n",
            "Standard Plan                                   Services\n",
            "----------------------------------------------  -----------------\n",
            "True                                            Bisa Stream\n",
            "True                                            Bisa Download\n",
            "True                                            Kualitas SD\n",
            "True                                            Kualitas HD\n",
            "False                                           Kualitas UHD\n",
            "2                                               Number of Devices\n",
            "Basic Plan + Sports (F1, Football, Basketball)  Jenis Konten\n",
            "160000                                          Harga\n"
          ]
        }
      ]
    },
    {
      "cell_type": "code",
      "source": [
        "user_2.upgrade_plan(\"Standard Plan\")"
      ],
      "metadata": {
        "colab": {
          "base_uri": "https://localhost:8080/",
          "height": 36
        },
        "id": "bC9mlohQX9oa",
        "outputId": "7d57f561-d8d9-4a49-a51e-b257139fd667"
      },
      "execution_count": null,
      "outputs": [
        {
          "output_type": "execute_result",
          "data": {
            "text/plain": [
              "'Anda tetap di Standard Plan dan mendapatkan diskon 5%! Harga: Rp 152,000'"
            ],
            "application/vnd.google.colaboratory.intrinsic+json": {
              "type": "string"
            }
          },
          "metadata": {},
          "execution_count": 123
        }
      ]
    },
    {
      "cell_type": "markdown",
      "source": [
        "# Create New User Object"
      ],
      "metadata": {
        "id": "G2q6HmXpYrmW"
      }
    },
    {
      "cell_type": "code",
      "source": [
        "class NewUser:\n",
        "\n",
        "    check_list = []\n",
        "\n",
        "    def __init__(self, username):\n",
        "        self.username = username\n",
        "\n",
        "    # method to dictionary to list to easier use\n",
        "    def convert_data_to_list(self, data):\n",
        "        for data in data.values():\n",
        "            for val in data:\n",
        "                self.check_list.append(val)\n",
        "\n",
        "        return self.check_list\n",
        "\n",
        "    # method to pick plan\n",
        "    def pick_plan(self, new_plan, referral_code):\n",
        "        if referral_code in self.check_list:\n",
        "            if new_plan == \"Basic Plan\":\n",
        "                total = 120_000 - (120_000 * 0.04)\n",
        "                return total\n",
        "            elif new_plan == \"Standard Plan\":\n",
        "                total = 160_000 - (160_000 * 0.04)\n",
        "                return total\n",
        "            elif new_plan == \"Premium Plan\":\n",
        "                total = 200_000 - (200_000 * 0.04)\n",
        "                return total\n",
        "            else:\n",
        "                print(\"Plan doesn't exist\")\n",
        "        else:\n",
        "            raise Exception(\"Referral Code doesn't exist\")"
      ],
      "metadata": {
        "id": "Cb4VxgLsYvt9"
      },
      "execution_count": null,
      "outputs": []
    },
    {
      "cell_type": "markdown",
      "source": [
        "## Create Object for NewUser Class"
      ],
      "metadata": {
        "id": "dFxrvIybY0XA"
      }
    },
    {
      "cell_type": "code",
      "source": [
        "fadhil = NewUser(\"fadhil_coolz\")"
      ],
      "metadata": {
        "id": "wW-07stmY7Mh"
      },
      "execution_count": null,
      "outputs": []
    },
    {
      "cell_type": "markdown",
      "source": [
        "## Convert Data to List"
      ],
      "metadata": {
        "id": "1BQolCb0ZFN5"
      }
    },
    {
      "cell_type": "code",
      "source": [
        "fadhil.convert_data_to_list(data)"
      ],
      "metadata": {
        "colab": {
          "base_uri": "https://localhost:8080/"
        },
        "id": "RMMhj6CKZKQH",
        "outputId": "d0a40286-fdc7-4edd-afc2-c1f3b3b54c06"
      },
      "execution_count": null,
      "outputs": [
        {
          "output_type": "execute_result",
          "data": {
            "text/plain": [
              "['Basic Plan',\n",
              " 12,\n",
              " 'shandy-2134',\n",
              " 'Standard Plan',\n",
              " 24,\n",
              " 'cahya-abcd',\n",
              " 'Premium Plan',\n",
              " 5,\n",
              " 'ana-2f9g',\n",
              " 'Basic Plan',\n",
              " 11,\n",
              " 'bagus-9f92']"
            ]
          },
          "metadata": {},
          "execution_count": 32
        }
      ]
    },
    {
      "cell_type": "markdown",
      "source": [
        "# Test Case 4"
      ],
      "metadata": {
        "id": "rymQ05f4ZgPP"
      }
    },
    {
      "cell_type": "code",
      "source": [
        "fadhil.pick_plan(\"Basic Plan\", \"shandy-2134\")"
      ],
      "metadata": {
        "colab": {
          "base_uri": "https://localhost:8080/"
        },
        "id": "oT5iJ1doZayo",
        "outputId": "4953c135-456a-4473-bbe7-d87b33d87ec8"
      },
      "execution_count": null,
      "outputs": [
        {
          "output_type": "execute_result",
          "data": {
            "text/plain": [
              "115200.0"
            ]
          },
          "metadata": {},
          "execution_count": 34
        }
      ]
    },
    {
      "cell_type": "code",
      "source": [
        "fadhil.pick_plan(\"Basic Plan\", \"indira-22gs\")"
      ],
      "metadata": {
        "colab": {
          "base_uri": "https://localhost:8080/",
          "height": 238
        },
        "id": "vb3bibJkZtDN",
        "outputId": "0e902728-c520-4525-901d-6f9029ac8605"
      },
      "execution_count": null,
      "outputs": [
        {
          "output_type": "error",
          "ename": "Exception",
          "evalue": "Referral Code doesn't exist",
          "traceback": [
            "\u001b[0;31m---------------------------------------------------------------------------\u001b[0m",
            "\u001b[0;31mException\u001b[0m                                 Traceback (most recent call last)",
            "\u001b[0;32m<ipython-input-36-07347b798aa1>\u001b[0m in \u001b[0;36m<cell line: 0>\u001b[0;34m()\u001b[0m\n\u001b[0;32m----> 1\u001b[0;31m \u001b[0mfadhil\u001b[0m\u001b[0;34m.\u001b[0m\u001b[0mpick_plan\u001b[0m\u001b[0;34m(\u001b[0m\u001b[0;34m\"Basic Plan\"\u001b[0m\u001b[0;34m,\u001b[0m \u001b[0;34m\"indira-22gs\"\u001b[0m\u001b[0;34m)\u001b[0m\u001b[0;34m\u001b[0m\u001b[0;34m\u001b[0m\u001b[0m\n\u001b[0m",
            "\u001b[0;32m<ipython-input-29-dd48b0802284>\u001b[0m in \u001b[0;36mpick_plan\u001b[0;34m(self, new_plan, referral_code)\u001b[0m\n\u001b[1;32m     29\u001b[0m                 \u001b[0mprint\u001b[0m\u001b[0;34m(\u001b[0m\u001b[0;34m\"Plan doesn't exist\"\u001b[0m\u001b[0;34m)\u001b[0m\u001b[0;34m\u001b[0m\u001b[0;34m\u001b[0m\u001b[0m\n\u001b[1;32m     30\u001b[0m         \u001b[0;32melse\u001b[0m\u001b[0;34m:\u001b[0m\u001b[0;34m\u001b[0m\u001b[0;34m\u001b[0m\u001b[0m\n\u001b[0;32m---> 31\u001b[0;31m             \u001b[0;32mraise\u001b[0m \u001b[0mException\u001b[0m\u001b[0;34m(\u001b[0m\u001b[0;34m\"Referral Code doesn't exist\"\u001b[0m\u001b[0;34m)\u001b[0m\u001b[0;34m\u001b[0m\u001b[0;34m\u001b[0m\u001b[0m\n\u001b[0m",
            "\u001b[0;31mException\u001b[0m: Referral Code doesn't exist"
          ]
        }
      ]
    }
  ]
}